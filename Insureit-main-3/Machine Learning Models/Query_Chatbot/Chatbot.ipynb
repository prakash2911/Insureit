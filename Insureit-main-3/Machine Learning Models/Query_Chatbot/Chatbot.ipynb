{
 "cells": [
  {
   "cell_type": "code",
   "execution_count": 2,
   "metadata": {},
   "outputs": [],
   "source": [
    "#In This Project we build a AI Contextual Chatbot which can be used for customer services in an Cyber Industry.\n",
    "#This Chatbot has also been trained with some of the basic terminologies of CyberSecurity. The intent file used for \n",
    "#training has been made by us.\n"
   ]
  },
  {
   "cell_type": "code",
   "execution_count": 3,
   "metadata": {},
   "outputs": [
    {
     "name": "stderr",
     "output_type": "stream",
     "text": [
      "[nltk_data] Error loading punkt: <urlopen error [Errno 11001]\n",
      "[nltk_data]     getaddrinfo failed>\n"
     ]
    }
   ],
   "source": [
    "# Importing Libraries required for NLP\n",
    "import nltk\n",
    "nltk.download(\"punkt\")\n",
    "from nltk.stem.lancaster import LancasterStemmer\n",
    "stemmer = LancasterStemmer()\n",
    "\n",
    "# Importing Libraries needed for Tensorflow processing\n",
    "import tensorflow as tf   #version 1.13.2\n",
    "import numpy as np\n",
    "import tflearn            #version 0.3.2\n",
    "import random\n",
    "import json"
   ]
  },
  {
   "cell_type": "code",
   "execution_count": null,
   "metadata": {},
   "outputs": [],
   "source": [
    "# importing our intent file used for training the model.\n",
    "with open(\"intents.json\") as json_data: \n",
    "    intents = json.load(json_data)      # Loading data from intents.json file to var intents"
   ]
  },
  {
   "cell_type": "code",
   "execution_count": null,
   "metadata": {},
   "outputs": [],
   "source": [
    "# Empty lists for appending the data after processing NLP\n",
    "words=[]\n",
    "documents = []\n",
    "classes = []\n",
    "\n",
    "\n",
    "# This list will be used for ignoring all unwanted punctuation marks.\n",
    "ignore = [\"?\"]\n",
    "\n",
    "# Starting a loop through each intent in intents[\"patterns\"]\n",
    "for intent in intents[\"intents\"]:\n",
    "    for pattern in intent[\"patterns\"]:\n",
    "        \n",
    "        # tokenizing each and every word in the sentence by using word tokenizer and storing in w\n",
    "        w = nltk.word_tokenize(pattern) \n",
    "        #print(w)\n",
    "        \n",
    "        # Adding tokenized words to words empty list that we created\n",
    "        words.extend(w) \n",
    "        #print(words)\n",
    "        \n",
    "        # Adding words to documents with tag given in intents file\n",
    "        documents.append((w, intent[\"tag\"]))\n",
    "        #print(documents)\n",
    "        \n",
    "        # Adding only tag to our classes list\n",
    "        if intent[\"tag\"] not in classes:      \n",
    "            classes.append(intent[\"tag\"])  #If tag is not present in classes[] then it will append into it.\n",
    "            #print(classes)\n",
    "            "
   ]
  },
  {
   "cell_type": "code",
   "execution_count": null,
   "metadata": {
    "scrolled": true
   },
   "outputs": [
    {
     "name": "stdout",
     "output_type": "stream",
     "text": [
      "90 Documents \n",
      "\n",
      "42 Classes \n",
      "\n",
      "78 Stemmed Words \n"
     ]
    }
   ],
   "source": [
    "#Performing Stemming by using stemmer.stem() nd lower each word \n",
    "#Running loop in words[] and ignoring punctuation marks present in ignore[]\n",
    "\n",
    "words = [stemmer.stem(w.lower()) for w in words if w not in ignore]  \n",
    "words = sorted(list(set(words)))  #Removing Duplicates in words[]\n",
    "\n",
    "#Removing Duplicate Classes\n",
    "classes = sorted(list(set(classes)))\n",
    "\n",
    "#Printing length of lists we formed\n",
    "print(len(documents),\"Documents \\n\")\n",
    "print(len(classes),\"Classes \\n\")\n",
    "print(len(words), \"Stemmed Words \")"
   ]
  },
  {
   "cell_type": "code",
   "execution_count": null,
   "metadata": {},
   "outputs": [],
   "source": [
    "#Creating Training Data which will be furthur used for training\n",
    "training = []\n",
    "output = []\n",
    "\n",
    "#Creating empty array for output\n",
    "output_empty = [0] * len(classes)\n",
    "\n",
    "#Creating Training set and bag of words for each sentence\n",
    "for doc in documents:\n",
    "    bag = [] #Initialising empty bag of words\n",
    "\n",
    "    pattern_words = doc[0] #Storing list of tokenized words for the documents[] tp pattern_words\n",
    "    #print(pattern_words)\n",
    "    \n",
    "    #Again Stemming each word from pattern_words\n",
    "    pattern_words = [stemmer.stem(word.lower()) for word in pattern_words]  \n",
    "    #print(pattern_words)\n",
    "    \n",
    "    #Creating bag of words array\n",
    "    for w in words:\n",
    "        bag.append(1) if w in pattern_words else bag.append(0)\n",
    "        \n",
    "    #It will give output 1 for curent tag and 0 for all other tags\n",
    "    output_row = list(output_empty)\n",
    "    output_row[classes.index(doc[1])] =1 \n",
    "    training.append([bag, output_row])"
   ]
  },
  {
   "cell_type": "code",
   "execution_count": null,
   "metadata": {},
   "outputs": [
    {
     "name": "stderr",
     "output_type": "stream",
     "text": [
      "C:\\Users\\VinaySR\\AppData\\Local\\Temp/ipykernel_24304/451365208.py:2: VisibleDeprecationWarning: Creating an ndarray from ragged nested sequences (which is a list-or-tuple of lists-or-tuples-or ndarrays with different lengths or shapes) is deprecated. If you meant to do this, you must specify 'dtype=object' when creating the ndarray.\n",
      "  training = np.array(training) #Converting training data into numpy array\n"
     ]
    }
   ],
   "source": [
    "random.shuffle(training) #Suffling the data or features\n",
    "training = np.array(training) #Converting training data into numpy array\n",
    "\n",
    "#Creating Training Lists\n",
    "train_x = list(training[:,0])\n",
    "train_y = list(training[:,1])"
   ]
  },
  {
   "cell_type": "code",
   "execution_count": null,
   "metadata": {},
   "outputs": [
    {
     "name": "stdout",
     "output_type": "stream",
     "text": [
      "Training Step: 11999  | total loss: \u001b[1m\u001b[32m1.09426\u001b[0m\u001b[0m | time: 0.038s\n",
      "| Adam | epoch: 1000 | loss: 1.09426 - acc: 0.9468 -- iter: 88/90\n",
      "Training Step: 12000  | total loss: \u001b[1m\u001b[32m0.98487\u001b[0m\u001b[0m | time: 0.042s\n",
      "| Adam | epoch: 1000 | loss: 0.98487 - acc: 0.9521 -- iter: 90/90\n",
      "--\n",
      "INFO:tensorflow:d:\\InsureIt\\Machine Learning Models\\Query_Chatbot\\model.tflearn is not in all_model_checkpoint_paths. Manually adding it.\n",
      "INFO:tensorflow:d:\\InsureIt\\Machine Learning Models\\Query_Chatbot\\model.tflearn.data-00000-of-00001\n",
      "INFO:tensorflow:0\n",
      "INFO:tensorflow:d:\\InsureIt\\Machine Learning Models\\Query_Chatbot\\model.tflearn.index\n",
      "INFO:tensorflow:0\n",
      "INFO:tensorflow:d:\\InsureIt\\Machine Learning Models\\Query_Chatbot\\model.tflearn.meta\n",
      "INFO:tensorflow:100\n"
     ]
    }
   ],
   "source": [
    "tf.compat.v1.reset_default_graph() #Reset Underlying Graph data\n",
    "\n",
    "#Building our own Neural Network\n",
    "net = tflearn.input_data(shape=[None, len(train_x[0])])\n",
    "net = tflearn.fully_connected(net, 10)\n",
    "net = tflearn.fully_connected(net, 10)\n",
    "net = tflearn.fully_connected(net, len(train_y[0]), activation=\"softmax\")\n",
    "net = tflearn.regression(net)\n",
    "\n",
    "#Defining Model and setting up tensorboard\n",
    "model = tflearn.DNN(net, tensorboard_dir=\"tflearn_logs\") \n",
    "\n",
    "#Now we have setup model, now we need to train that model by fitting data into it by model.fit()\n",
    "#n_epoch is the number of times that model will se our data during training\n",
    "model.fit(train_x, train_y, n_epoch=1000, batch_size=8, show_metric=True) \n",
    "model.save(\"model.tflearn\") #Saving the model"
   ]
  },
  {
   "cell_type": "code",
   "execution_count": null,
   "metadata": {},
   "outputs": [],
   "source": [
    "#Importing pickle module\n",
    "import pickle\n",
    "\n",
    "#Dumping training data by using dump() and writing it into training_data in binary mode\n",
    "pickle.dump({\"words\":words, \"classes\":classes, \"train_x\":train_x, \"train_y\":train_y}, open(\"training_data\", \"wb\"))"
   ]
  },
  {
   "cell_type": "code",
   "execution_count": null,
   "metadata": {},
   "outputs": [],
   "source": [
    "#Restoring all data structure\n",
    "data = pickle.load(open(\"training_data\",\"rb\"))\n",
    "words = data['words']\n",
    "classes = data['classes']\n",
    "train_x = data['train_x']\n",
    "train_y = data['train_y']"
   ]
  },
  {
   "cell_type": "code",
   "execution_count": null,
   "metadata": {},
   "outputs": [],
   "source": [
    "with open(\"intents.json\") as json_data:\n",
    "    intents = json.load(json_data)  #Loading our json_data"
   ]
  },
  {
   "cell_type": "code",
   "execution_count": null,
   "metadata": {},
   "outputs": [
    {
     "name": "stdout",
     "output_type": "stream",
     "text": [
      "INFO:tensorflow:Restoring parameters from d:\\InsureIt\\Machine Learning Models\\Query_Chatbot\\model.tflearn\n"
     ]
    }
   ],
   "source": [
    "# Loading the saved model\n",
    "model.load(\"./model.tflearn\") #Loading training model which we saved"
   ]
  },
  {
   "cell_type": "code",
   "execution_count": null,
   "metadata": {},
   "outputs": [],
   "source": [
    "#Cleaning User Input\n",
    "def clean_up_sentence(sentence):\n",
    "    \n",
    "    # Tokenizing the pattern\n",
    "    sentence_words = nltk.word_tokenize(sentence) #Again tokenizing the sentence\n",
    "    \n",
    "    #Stemming each word from the user's input\n",
    "    sentence_words= [stemmer.stem(word.lower()) for word in sentence_words]\n",
    "\n",
    "    return sentence_words\n",
    "\n",
    "#Returning bag of words array: 0 or 1 or each word in the bag that exists in as we have declared in above lines\n",
    "def bow(sentence, words, show_details=False):\n",
    "    \n",
    "    #Tokenizing the user input\n",
    "    sentence_words = clean_up_sentence(sentence)\n",
    "    \n",
    "    #Generating bag of words from the sentence that user entered\n",
    "    bag = [0]*len(words)\n",
    "    for s in sentence_words:\n",
    "        for i,w in enumerate(words):\n",
    "            if w == s:\n",
    "                bag[i] = 1\n",
    "                if show_details:\n",
    "                    print(\"Found in bag: %s\"% w)\n",
    "    return(np.array(bag))"
   ]
  },
  {
   "cell_type": "code",
   "execution_count": null,
   "metadata": {},
   "outputs": [],
   "source": [
    "#Adding some context to the conversation for better results.\n",
    "\n",
    "context = {} #Create a dictionary to hold user's context\n",
    "\n",
    "ERROR_THRESHOLD = 0.25\n",
    "def classify(sentence):\n",
    "    \n",
    "    #Generating probabilities from the model\n",
    "    results = model.predict([bow(sentence, words)])[0]\n",
    "    \n",
    "    #Filter out predictions below a threshold\n",
    "    results = [[i,r] for i,r in enumerate(results) if r>ERROR_THRESHOLD]\n",
    "    \n",
    "    #Sorting by strength of probability\n",
    "    results.sort(key=lambda x: x[1], reverse=True)\n",
    "    return_list = []\n",
    "    for r in results:\n",
    "        return_list.append((classes[r[0]], r[1]))\n",
    "    \n",
    "    # return tuple of intent and probability\n",
    "    return return_list\n",
    "\n",
    "def response(sentence, userID='123', show_details=False):\n",
    "    results = classify(sentence)\n",
    "    \n",
    "    #If we have a classification then find the matching intent tag\n",
    "    if results:\n",
    "        \n",
    "        #Loop as long as there are matches to process\n",
    "        while results:\n",
    "            for i in intents['intents']:\n",
    "                \n",
    "                #Find a tag matching the first result\n",
    "                if i['tag'] == results[0][0]:\n",
    "                    \n",
    "                    #Set context for this intent if necessary\n",
    "                    if 'context_set' in i:\n",
    "                        if show_details: print ('context:', i['context_set'])\n",
    "                        context[userID] = i['context_set']\n",
    "\n",
    "                    # check if this intent is contextual and applies to this user's conversation\n",
    "                    if not 'context_filter' in i or \\\n",
    "                        (userID in context and 'context_filter' in i and i['context_filter'] == context[userID]):\n",
    "                        if show_details: print ('tag:', i['tag'])\n",
    "                        \n",
    "                        #A random response from the intent\n",
    "                        return print(random.choice(i['responses']))\n",
    "\n",
    "            results.pop(0)"
   ]
  },
  {
   "cell_type": "code",
   "execution_count": null,
   "metadata": {},
   "outputs": [
    {
     "ename": "NameError",
     "evalue": "name 'response' is not defined",
     "output_type": "error",
     "traceback": [
      "\u001b[1;31m---------------------------------------------------------------------------\u001b[0m",
      "\u001b[1;31mNameError\u001b[0m                                 Traceback (most recent call last)",
      "\u001b[1;32m~\\AppData\\Local\\Temp/ipykernel_18376/2708997434.py\u001b[0m in \u001b[0;36m<module>\u001b[1;34m\u001b[0m\n\u001b[1;32m----> 1\u001b[1;33m \u001b[0mresponse\u001b[0m\u001b[1;33m(\u001b[0m\u001b[1;34m'features of term insurance'\u001b[0m\u001b[1;33m)\u001b[0m\u001b[1;33m\u001b[0m\u001b[1;33m\u001b[0m\u001b[0m\n\u001b[0m",
      "\u001b[1;31mNameError\u001b[0m: name 'response' is not defined"
     ]
    }
   ],
   "source": [
    "response('features of term insurance')"
   ]
  }
 ],
 "metadata": {
  "interpreter": {
   "hash": "11938c6bc6919ae2720b4d5011047913343b08a43b18698fd82dedb0d4417594"
  },
  "kernelspec": {
   "display_name": "Python 3.9.5 64-bit",
   "language": "python",
   "name": "python3"
  },
  "language_info": {
   "codemirror_mode": {
    "name": "ipython",
    "version": 3
   },
   "file_extension": ".py",
   "mimetype": "text/x-python",
   "name": "python",
   "nbconvert_exporter": "python",
   "pygments_lexer": "ipython3",
   "version": "3.9.5"
  }
 },
 "nbformat": 4,
 "nbformat_minor": 2
}
